{
  "nbformat": 4,
  "nbformat_minor": 0,
  "metadata": {
    "colab": {
      "name": "Object Detection (kitti tiny dataset).ipynb",
      "provenance": [],
      "toc_visible": true
    },
    "kernelspec": {
      "name": "python3",
      "display_name": "Python 3"
    },
    "language_info": {
      "name": "python"
    },
    "accelerator": "GPU"
  },
  "cells": [
    {
      "cell_type": "code",
      "metadata": {
        "colab": {
          "base_uri": "https://localhost:8080/"
        },
        "id": "ngq8BuaAZO6p",
        "outputId": "3f7269c0-70b0-4e60-eaca-79fff7ce4895"
      },
      "source": [
        "!pip install mmcv-full"
      ],
      "execution_count": 1,
      "outputs": [
        {
          "output_type": "stream",
          "name": "stdout",
          "text": [
            "Collecting mmcv-full\n",
            "  Downloading mmcv-full-1.3.14.tar.gz (324 kB)\n",
            "\u001b[K     |████████████████████████████████| 324 kB 5.3 MB/s \n",
            "\u001b[?25hCollecting addict\n",
            "  Downloading addict-2.4.0-py3-none-any.whl (3.8 kB)\n",
            "Requirement already satisfied: numpy in /usr/local/lib/python3.7/dist-packages (from mmcv-full) (1.19.5)\n",
            "Requirement already satisfied: packaging in /usr/local/lib/python3.7/dist-packages (from mmcv-full) (21.0)\n",
            "Requirement already satisfied: Pillow in /usr/local/lib/python3.7/dist-packages (from mmcv-full) (7.1.2)\n",
            "Requirement already satisfied: pyyaml in /usr/local/lib/python3.7/dist-packages (from mmcv-full) (3.13)\n",
            "Collecting yapf\n",
            "  Downloading yapf-0.31.0-py2.py3-none-any.whl (185 kB)\n",
            "\u001b[K     |████████████████████████████████| 185 kB 42.1 MB/s \n",
            "\u001b[?25hRequirement already satisfied: pyparsing>=2.0.2 in /usr/local/lib/python3.7/dist-packages (from packaging->mmcv-full) (2.4.7)\n",
            "Building wheels for collected packages: mmcv-full\n",
            "  Building wheel for mmcv-full (setup.py) ... \u001b[?25l\u001b[?25hdone\n",
            "  Created wheel for mmcv-full: filename=mmcv_full-1.3.14-cp37-cp37m-linux_x86_64.whl size=31468705 sha256=c64bb1d5ee25abe646424d21578fd426994fdf66474e1f2de4b28370e00d985c\n",
            "  Stored in directory: /root/.cache/pip/wheels/5e/54/62/69c99dc3c9937bca64126f81cbe315ae6c8e6e98c43fa7392d\n",
            "Successfully built mmcv-full\n",
            "Installing collected packages: yapf, addict, mmcv-full\n",
            "Successfully installed addict-2.4.0 mmcv-full-1.3.14 yapf-0.31.0\n"
          ]
        }
      ]
    },
    {
      "cell_type": "code",
      "metadata": {
        "colab": {
          "base_uri": "https://localhost:8080/"
        },
        "id": "DX-j5rSDazYS",
        "outputId": "d83a8b08-afa7-47a2-bd3c-656ccfd030e0"
      },
      "source": [
        "!git clone https://github.com/open-mmlab/mmdetection.git"
      ],
      "execution_count": 2,
      "outputs": [
        {
          "output_type": "stream",
          "name": "stdout",
          "text": [
            "Cloning into 'mmdetection'...\n",
            "remote: Enumerating objects: 21083, done.\u001b[K\n",
            "remote: Counting objects: 100% (67/67), done.\u001b[K\n",
            "remote: Compressing objects: 100% (62/62), done.\u001b[K\n",
            "remote: Total 21083 (delta 13), reused 42 (delta 5), pack-reused 21016\u001b[K\n",
            "Receiving objects: 100% (21083/21083), 24.83 MiB | 25.35 MiB/s, done.\n",
            "Resolving deltas: 100% (14708/14708), done.\n"
          ]
        }
      ]
    },
    {
      "cell_type": "code",
      "metadata": {
        "colab": {
          "base_uri": "https://localhost:8080/"
        },
        "id": "gx300sUihxpp",
        "outputId": "d808d555-4b54-4bbf-e4d8-667213432cc9"
      },
      "source": [
        "%cd mmdetection"
      ],
      "execution_count": 5,
      "outputs": [
        {
          "output_type": "stream",
          "name": "stdout",
          "text": [
            "/content/mmdetection\n"
          ]
        }
      ]
    },
    {
      "cell_type": "code",
      "metadata": {
        "id": "_fk7p9aZhRJb"
      },
      "source": [
        "!python setup.py install"
      ],
      "execution_count": null,
      "outputs": []
    },
    {
      "cell_type": "code",
      "metadata": {
        "colab": {
          "base_uri": "https://localhost:8080/"
        },
        "id": "2VFbP0-ah6ID",
        "outputId": "e3b927b7-6e3f-4168-a891-e4699b8bf330"
      },
      "source": [
        "!ls"
      ],
      "execution_count": 10,
      "outputs": [
        {
          "output_type": "stream",
          "name": "stdout",
          "text": [
            "build\t      docker\t   mmdet\t    README_zh-CN.md   setup.py\n",
            "CITATION.cff  docs\t   mmdet.egg-info   requirements      tests\n",
            "configs       docs_zh-CN   model-index.yml  requirements.txt  tools\n",
            "demo\t      LICENSE\t   pytest.ini\t    resources\n",
            "dist\t      MANIFEST.in  README.md\t    setup.cfg\n"
          ]
        }
      ]
    },
    {
      "cell_type": "code",
      "metadata": {
        "id": "8cWO3JP3iQ4O"
      },
      "source": [
        "!mkdir checkpoints"
      ],
      "execution_count": 11,
      "outputs": []
    },
    {
      "cell_type": "code",
      "metadata": {
        "colab": {
          "base_uri": "https://localhost:8080/"
        },
        "id": "lAdN7L4kiath",
        "outputId": "82de9d00-3f62-4c54-9dcc-ed695cf7277a"
      },
      "source": [
        "!ls"
      ],
      "execution_count": 12,
      "outputs": [
        {
          "output_type": "stream",
          "name": "stdout",
          "text": [
            "build\t      demo    docs_zh-CN   mmdet.egg-info   README_zh-CN.md   setup.cfg\n",
            "checkpoints   dist    LICENSE\t   model-index.yml  requirements      setup.py\n",
            "CITATION.cff  docker  MANIFEST.in  pytest.ini\t    requirements.txt  tests\n",
            "configs       docs    mmdet\t   README.md\t    resources\t      tools\n"
          ]
        }
      ]
    },
    {
      "cell_type": "code",
      "metadata": {
        "id": "WaSEowpLi5on"
      },
      "source": [
        "#https://github.com/open-mmlab/mmdetection/tree/master/configs/faster_rcnn/faster_rcnn_r50_fpn_1x_coco.py 해당 파일 다운로드"
      ],
      "execution_count": null,
      "outputs": []
    },
    {
      "cell_type": "code",
      "metadata": {
        "colab": {
          "base_uri": "https://localhost:8080/"
        },
        "id": "p6hdxFFZibZo",
        "outputId": "ff3a7b3e-6b7a-48bd-8837-ca1b3613250b"
      },
      "source": [
        "!wget -O /content/mmdetection/checkpoints/faster_rcnn_r50_fpn_1x_coco_20200130-047c8118.pth https://download.openmmlab.com/mmdetection/v2.0/faster_rcnn/faster_rcnn_r50_fpn_1x_coco/faster_rcnn_r50_fpn_1x_coco_20200130-047c8118.pth #해당 주소에 있는 것을 해당 위치의 해당 이름으로 받아옴"
      ],
      "execution_count": 15,
      "outputs": [
        {
          "output_type": "stream",
          "name": "stdout",
          "text": [
            "--2021-09-29 03:15:28--  https://download.openmmlab.com/mmdetection/v2.0/faster_rcnn/faster_rcnn_r50_fpn_1x_coco/faster_rcnn_r50_fpn_1x_coco_20200130-047c8118.pth\n",
            "Resolving download.openmmlab.com (download.openmmlab.com)... 47.252.96.35\n",
            "Connecting to download.openmmlab.com (download.openmmlab.com)|47.252.96.35|:443... connected.\n",
            "HTTP request sent, awaiting response... 200 OK\n",
            "Length: 167287506 (160M) [application/octet-stream]\n",
            "Saving to: ‘/content/mmdetection/checkpoints/faster_rcnn_r50_fpn_1x_coco_20200130-047c8118.pth’\n",
            "\n",
            "/content/mmdetectio 100%[===================>] 159.54M  7.76MB/s    in 22s     \n",
            "\n",
            "2021-09-29 03:15:52 (7.25 MB/s) - ‘/content/mmdetection/checkpoints/faster_rcnn_r50_fpn_1x_coco_20200130-047c8118.pth’ saved [167287506/167287506]\n",
            "\n"
          ]
        }
      ]
    },
    {
      "cell_type": "code",
      "metadata": {
        "colab": {
          "base_uri": "https://localhost:8080/"
        },
        "id": "yKATIfVajB05",
        "outputId": "cf0e4bf3-9d87-4288-c9bb-f32ec6f2e9f0"
      },
      "source": [
        "!ls ./checkpoints/"
      ],
      "execution_count": 17,
      "outputs": [
        {
          "output_type": "stream",
          "name": "stdout",
          "text": [
            "faster_rcnn_r50_fpn_1x_coco_20200130-047c8118.pth\n"
          ]
        }
      ]
    },
    {
      "cell_type": "code",
      "metadata": {
        "id": "7LJbf9aHjOjv"
      },
      "source": [
        "#https://github.com/open-mmlab/mmdetection/tree/master/configs/faster_rcnn/faster_rcnn_r50_fpn_1x_coco.py"
      ],
      "execution_count": null,
      "outputs": []
    },
    {
      "cell_type": "code",
      "metadata": {
        "colab": {
          "base_uri": "https://localhost:8080/"
        },
        "id": "MtQ-I_o-jmCH",
        "outputId": "b963837a-f49f-4d86-9fee-3e82cf92b9a4"
      },
      "source": [
        "\n",
        "!wget /content/mmdetection/checkpoints/faster_rcnn_r50_fpn_1x_coco.py https://github.com/open-mmlab/mmdetection/tree/master/configs/faster_rcnn/faster_rcnn_r50_fpn_1x_coco.py"
      ],
      "execution_count": 18,
      "outputs": [
        {
          "output_type": "stream",
          "name": "stdout",
          "text": [
            "/content/mmdetection/checkpoints/faster_rcnn_r50_fpn_1x_coco.py: Scheme missing.\n",
            "--2021-09-29 03:17:57--  https://github.com/open-mmlab/mmdetection/tree/master/configs/faster_rcnn/faster_rcnn_r50_fpn_1x_coco.py\n",
            "Resolving github.com (github.com)... 140.82.112.3\n",
            "Connecting to github.com (github.com)|140.82.112.3|:443... connected.\n",
            "HTTP request sent, awaiting response... 301 Moved Permanently\n",
            "Location: https://github.com/open-mmlab/mmdetection/blob/master/configs/faster_rcnn/faster_rcnn_r50_fpn_1x_coco.py [following]\n",
            "--2021-09-29 03:17:57--  https://github.com/open-mmlab/mmdetection/blob/master/configs/faster_rcnn/faster_rcnn_r50_fpn_1x_coco.py\n",
            "Reusing existing connection to github.com:443.\n",
            "HTTP request sent, awaiting response... 200 OK\n",
            "Length: unspecified [text/html]\n",
            "Saving to: ‘faster_rcnn_r50_fpn_1x_coco.py’\n",
            "\n",
            "faster_rcnn_r50_fpn     [ <=>                ] 143.33K  --.-KB/s    in 0.08s   \n",
            "\n",
            "2021-09-29 03:17:57 (1.85 MB/s) - ‘faster_rcnn_r50_fpn_1x_coco.py’ saved [146766]\n",
            "\n",
            "FINISHED --2021-09-29 03:17:57--\n",
            "Total wall clock time: 0.5s\n",
            "Downloaded: 1 files, 143K in 0.08s (1.85 MB/s)\n"
          ]
        }
      ]
    },
    {
      "cell_type": "code",
      "metadata": {
        "id": "QwVAmi9DjxHa"
      },
      "source": [
        ""
      ],
      "execution_count": null,
      "outputs": []
    }
  ]
}